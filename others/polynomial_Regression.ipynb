{
  "nbformat": 4,
  "nbformat_minor": 0,
  "metadata": {
    "colab": {
      "provenance": [],
      "authorship_tag": "ABX9TyPIUffOiUigivq6C8XriZxD",
      "include_colab_link": true
    },
    "kernelspec": {
      "name": "python3",
      "display_name": "Python 3"
    },
    "language_info": {
      "name": "python"
    }
  },
  "cells": [
    {
      "cell_type": "markdown",
      "metadata": {
        "id": "view-in-github",
        "colab_type": "text"
      },
      "source": [
        "<a href=\"https://colab.research.google.com/github/shilpeemaitra/AML/blob/main/polynomial_Regression.ipynb\" target=\"_parent\"><img src=\"https://colab.research.google.com/assets/colab-badge.svg\" alt=\"Open In Colab\"/></a>"
      ]
    },
    {
      "cell_type": "code",
      "execution_count": 1,
      "metadata": {
        "id": "HexRc-4ZfjX8"
      },
      "outputs": [],
      "source": [
        "import numpy as np\n",
        "import pandas as pd\n",
        "import matplotlib.pyplot as plt"
      ]
    },
    {
      "cell_type": "code",
      "source": [
        "x=6*np.random.rand(100,1)-3\n",
        "y=0.5 * x**2+ 1.5*x +2 + np.random.randn(100,1)  #Quadratic equation used\n",
        "plt.scatter(x,y,color='b')\n",
        "plt.xlabel('x points')\n",
        "plt.ylabel('y points')\n",
        "\n"
      ],
      "metadata": {
        "colab": {
          "base_uri": "https://localhost:8080/",
          "height": 466
        },
        "id": "ThGLVJ69gGnk",
        "outputId": "3602201d-a50d-4c1b-c00d-49a7d358eb12"
      },
      "execution_count": 3,
      "outputs": [
        {
          "output_type": "execute_result",
          "data": {
            "text/plain": [
              "Text(0, 0.5, 'y points')"
            ]
          },
          "metadata": {},
          "execution_count": 3
        },
        {
          "output_type": "display_data",
          "data": {
            "text/plain": [
              "<Figure size 640x480 with 1 Axes>"
            ],
            "image/png": "[encoded data removed]"
          },
          "metadata": {}
        }
      ]
    },
    {
      "cell_type": "code",
      "source": [
        "from sklearn.model_selection import train_test_split\n",
        "x_train, x_test, y_train, y_test=train_test_split(x,y,test_size=0.2, random_state=2)\n"
      ],
      "metadata": {
        "id": "8biYLWKbgqxO"
      },
      "execution_count": 6,
      "outputs": []
    },
    {
      "cell_type": "code",
      "source": [
        "from sklearn.linear_model import LinearRegression\n",
        "Reg_model1=LinearRegression()"
      ],
      "metadata": {
        "id": "GLqOoNhChKIV"
      },
      "execution_count": 7,
      "outputs": []
    },
    {
      "cell_type": "code",
      "source": [
        "Reg_model1.fit(x_train,y_train)"
      ],
      "metadata": {
        "colab": {
          "base_uri": "https://localhost:8080/",
          "height": 74
        },
        "id": "8n34m8EXhaN8",
        "outputId": "ef357fe8-dc0e-4d54-e2b7-0cc014dc23c2"
      },
      "execution_count": 9,
      "outputs": [
        {
          "output_type": "execute_result",
          "data": {
            "text/plain": [
              "LinearRegression()"
            ],
            "text/html": [
              "<style>#sk-container-id-1 {color: black;background-color: white;}#sk-container-id-1 pre{padding: 0;}#sk-container-id-1 div.sk-toggleable {background-color: white;}#sk-container-id-1 label.sk-toggleable__label {cursor: pointer;display: block;width: 100%;margin-bottom: 0;padding: 0.3em;box-sizing: border-box;text-align: center;}#sk-container-id-1 label.sk-toggleable__label-arrow:before {content: \"▸\";float: left;margin-right: 0.25em;color: #696969;}#sk-container-id-1 label.sk-toggleable__label-arrow:hover:before {color: black;}#sk-container-id-1 div.sk-estimator:hover label.sk-toggleable__label-arrow:before {color: black;}#sk-container-id-1 div.sk-toggleable__content {max-height: 0;max-width: 0;overflow: hidden;text-align: left;background-color: #f0f8ff;}#sk-container-id-1 div.sk-toggleable__content pre {margin: 0.2em;color: black;border-radius: 0.25em;background-color: #f0f8ff;}#sk-container-id-1 input.sk-toggleable__control:checked~div.sk-toggleable__content {max-height: 200px;max-width: 100%;overflow: auto;}#sk-container-id-1 input.sk-toggleable__control:checked~label.sk-toggleable__label-arrow:before {content: \"▾\";}#sk-container-id-1 div.sk-estimator input.sk-toggleable__control:checked~label.sk-toggleable__label {background-color: #d4ebff;}#sk-container-id-1 div.sk-label input.sk-toggleable__control:checked~label.sk-toggleable__label {background-color: #d4ebff;}#sk-container-id-1 input.sk-hidden--visually {border: 0;clip: rect(1px 1px 1px 1px);clip: rect(1px, 1px, 1px, 1px);height: 1px;margin: -1px;overflow: hidden;padding: 0;position: absolute;width: 1px;}#sk-container-id-1 div.sk-estimator {font-family: monospace;background-color: #f0f8ff;border: 1px dotted black;border-radius: 0.25em;box-sizing: border-box;margin-bottom: 0.5em;}#sk-container-id-1 div.sk-estimator:hover {background-color: #d4ebff;}#sk-container-id-1 div.sk-parallel-item::after {content: \"\";width: 100%;border-bottom: 1px solid gray;flex-grow: 1;}#sk-container-id-1 div.sk-label:hover label.sk-toggleable__label {background-color: #d4ebff;}#sk-container-id-1 div.sk-serial::before {content: \"\";position: absolute;border-left: 1px solid gray;box-sizing: border-box;top: 0;bottom: 0;left: 50%;z-index: 0;}#sk-container-id-1 div.sk-serial {display: flex;flex-direction: column;align-items: center;background-color: white;padding-right: 0.2em;padding-left: 0.2em;position: relative;}#sk-container-id-1 div.sk-item {position: relative;z-index: 1;}#sk-container-id-1 div.sk-parallel {display: flex;align-items: stretch;justify-content: center;background-color: white;position: relative;}#sk-container-id-1 div.sk-item::before, #sk-container-id-1 div.sk-parallel-item::before {content: \"\";position: absolute;border-left: 1px solid gray;box-sizing: border-box;top: 0;bottom: 0;left: 50%;z-index: -1;}#sk-container-id-1 div.sk-parallel-item {display: flex;flex-direction: column;z-index: 1;position: relative;background-color: white;}#sk-container-id-1 div.sk-parallel-item:first-child::after {align-self: flex-end;width: 50%;}#sk-container-id-1 div.sk-parallel-item:last-child::after {align-self: flex-start;width: 50%;}#sk-container-id-1 div.sk-parallel-item:only-child::after {width: 0;}#sk-container-id-1 div.sk-dashed-wrapped {border: 1px dashed gray;margin: 0 0.4em 0.5em 0.4em;box-sizing: border-box;padding-bottom: 0.4em;background-color: white;}#sk-container-id-1 div.sk-label label {font-family: monospace;font-weight: bold;display: inline-block;line-height: 1.2em;}#sk-container-id-1 div.sk-label-container {text-align: center;}#sk-container-id-1 div.sk-container {/* jupyter's `normalize.less` sets `[hidden] { display: none; }` but bootstrap.min.css set `[hidden] { display: none !important; }` so we also need the `!important` here to be able to override the default hidden behavior on the sphinx rendered scikit-learn.org. See: https://github.com/scikit-learn/scikit-learn/issues/21755 */display: inline-block !important;position: relative;}#sk-container-id-1 div.sk-text-repr-fallback {display: none;}</style><div id=\"sk-container-id-1\" class=\"sk-top-container\"><div class=\"sk-text-repr-fallback\"><pre>LinearRegression()</pre><b>In a Jupyter environment, please rerun this cell to show the HTML representation or trust the notebook. <br />On GitHub, the HTML representation is unable to render, please try loading this page with nbviewer.org.</b></div><div class=\"sk-container\" hidden><div class=\"sk-item\"><div class=\"sk-estimator sk-toggleable\"><input class=\"sk-toggleable__control sk-hidden--visually\" id=\"sk-estimator-id-1\" type=\"checkbox\" checked><label for=\"sk-estimator-id-1\" class=\"sk-toggleable__label sk-toggleable__label-arrow\">LinearRegression</label><div class=\"sk-toggleable__content\"><pre>LinearRegression()</pre></div></div></div></div></div>"
            ]
          },
          "metadata": {},
          "execution_count": 9
        }
      ]
    },
    {
      "cell_type": "code",
      "source": [
        "from sklearn.metrics import r2_score\n",
        "score1=r2_score(y_test,Reg_model1.predict(x_test))\n",
        "print(score1)"
      ],
      "metadata": {
        "colab": {
          "base_uri": "https://localhost:8080/"
        },
        "id": "znxvVxj-hesc",
        "outputId": "abe8e043-332a-482b-8da9-82706523b5da"
      },
      "execution_count": 15,
      "outputs": [
        {
          "output_type": "stream",
          "name": "stdout",
          "text": [
            "0.7883352092710594\n"
          ]
        }
      ]
    },
    {
      "cell_type": "code",
      "source": [
        "plt.plot(x_train,Reg_model1.predict(x_train),color='r')\n",
        "plt.scatter(x_train,y_train)\n",
        "plt.xlabel('X values')\n",
        "plt.ylabel('Y values')"
      ],
      "metadata": {
        "colab": {
          "base_uri": "https://localhost:8080/",
          "height": 466
        },
        "id": "MWnGBHoBhrlt",
        "outputId": "8b680b2c-592f-47ae-a196-5e1364fde4b2"
      },
      "execution_count": 17,
      "outputs": [
        {
          "output_type": "execute_result",
          "data": {
            "text/plain": [
              "Text(0, 0.5, 'Y values')"
            ]
          },
          "metadata": {},
          "execution_count": 17
        },
        {
          "output_type": "display_data",
          "data": {
            "text/plain": [
              "<Figure size 640x480 with 1 Axes>"
            ],
            "image/png": "[encoded data removed]"
          },
          "metadata": {}
        }
      ]
    },
    {
      "cell_type": "markdown",
      "source": [
        "Polynomial Rregression"
      ],
      "metadata": {
        "id": "a7ZgvvpXijYC"
      }
    },
    {
      "cell_type": "code",
      "source": [
        "from sklearn.preprocessing import PolynomialFeatures"
      ],
      "metadata": {
        "id": "UfYa5KANiVts"
      },
      "execution_count": 18,
      "outputs": []
    },
    {
      "cell_type": "code",
      "source": [
        "p=PolynomialFeatures(degree=2, include_bias=True)\n",
        "x_train_p=p.fit_transform(x_train)\n",
        "x_test_p=p.transform(x_test)"
      ],
      "metadata": {
        "id": "Torjuq8siqaj"
      },
      "execution_count": 19,
      "outputs": []
    },
    {
      "cell_type": "code",
      "source": [
        "x_train_p"
      ],
      "metadata": {
        "colab": {
          "base_uri": "https://localhost:8080/"
        },
        "id": "1gzE9VSUi5i8",
        "outputId": "c1712500-f36e-4f54-923b-9e9d8d766e85"
      },
      "execution_count": 20,
      "outputs": [
        {
          "output_type": "execute_result",
          "data": {
            "text/plain": [
              "array([[ 1.00000000e+00, -2.74638616e+00,  7.54263694e+00],\n",
              "       [ 1.00000000e+00, -2.27219603e+00,  5.16287478e+00],\n",
              "       [ 1.00000000e+00,  1.12134413e+00,  1.25741265e+00],\n",
              "       [ 1.00000000e+00,  2.65402090e+00,  7.04382692e+00],\n",
              "       [ 1.00000000e+00, -1.36653089e-01,  1.86740667e-02],\n",
              "       [ 1.00000000e+00, -1.07494798e+00,  1.15551316e+00],\n",
              "       [ 1.00000000e+00,  1.97702902e+00,  3.90864376e+00],\n",
              "       [ 1.00000000e+00,  2.04626196e+00,  4.18718800e+00],\n",
              "       [ 1.00000000e+00, -4.28908872e-01,  1.83962820e-01],\n",
              "       [ 1.00000000e+00, -6.38448380e-01,  4.07616334e-01],\n",
              "       [ 1.00000000e+00, -1.37167412e+00,  1.88148989e+00],\n",
              "       [ 1.00000000e+00, -2.66478635e+00,  7.10108626e+00],\n",
              "       [ 1.00000000e+00,  1.03031212e+00,  1.06154306e+00],\n",
              "       [ 1.00000000e+00,  2.38006702e+00,  5.66471901e+00],\n",
              "       [ 1.00000000e+00,  2.44508976e+00,  5.97846392e+00],\n",
              "       [ 1.00000000e+00,  1.20930633e+00,  1.46242181e+00],\n",
              "       [ 1.00000000e+00, -8.68377913e-01,  7.54080200e-01],\n",
              "       [ 1.00000000e+00,  3.30641714e-01,  1.09323943e-01],\n",
              "       [ 1.00000000e+00, -1.88386767e+00,  3.54895740e+00],\n",
              "       [ 1.00000000e+00, -2.31437962e+00,  5.35635305e+00],\n",
              "       [ 1.00000000e+00,  1.86509683e+00,  3.47858618e+00],\n",
              "       [ 1.00000000e+00, -2.06120021e+00,  4.24854631e+00],\n",
              "       [ 1.00000000e+00,  2.74034985e+00,  7.50951731e+00],\n",
              "       [ 1.00000000e+00, -2.75951155e+00,  7.61490397e+00],\n",
              "       [ 1.00000000e+00,  5.73806258e-01,  3.29253622e-01],\n",
              "       [ 1.00000000e+00, -2.77667748e+00,  7.70993782e+00],\n",
              "       [ 1.00000000e+00, -2.40914056e+00,  5.80395825e+00],\n",
              "       [ 1.00000000e+00, -1.23482721e+00,  1.52479824e+00],\n",
              "       [ 1.00000000e+00,  1.44610761e+00,  2.09122722e+00],\n",
              "       [ 1.00000000e+00,  1.05258002e+00,  1.10792470e+00],\n",
              "       [ 1.00000000e+00,  2.58915382e-01,  6.70371748e-02],\n",
              "       [ 1.00000000e+00, -1.61898982e-01,  2.62112803e-02],\n",
              "       [ 1.00000000e+00,  2.21384477e+00,  4.90110867e+00],\n",
              "       [ 1.00000000e+00, -6.71456582e-01,  4.50853942e-01],\n",
              "       [ 1.00000000e+00, -1.02083201e+00,  1.04209800e+00],\n",
              "       [ 1.00000000e+00, -6.50190666e-01,  4.22747903e-01],\n",
              "       [ 1.00000000e+00,  5.21558350e-01,  2.72023112e-01],\n",
              "       [ 1.00000000e+00, -1.26068527e+00,  1.58932736e+00],\n",
              "       [ 1.00000000e+00, -2.27193007e+00,  5.16166623e+00],\n",
              "       [ 1.00000000e+00,  1.53744393e+00,  2.36373384e+00],\n",
              "       [ 1.00000000e+00,  6.11428559e-02,  3.73844882e-03],\n",
              "       [ 1.00000000e+00,  5.05165777e-01,  2.55192462e-01],\n",
              "       [ 1.00000000e+00, -2.36558737e+00,  5.59600362e+00],\n",
              "       [ 1.00000000e+00,  2.85175237e+00,  8.13249156e+00],\n",
              "       [ 1.00000000e+00,  1.44643961e+00,  2.09218756e+00],\n",
              "       [ 1.00000000e+00, -7.83738202e-01,  6.14245569e-01],\n",
              "       [ 1.00000000e+00, -1.88803780e-01,  3.56468672e-02],\n",
              "       [ 1.00000000e+00, -2.03821139e+00,  4.15430567e+00],\n",
              "       [ 1.00000000e+00,  1.82934147e+00,  3.34649020e+00],\n",
              "       [ 1.00000000e+00, -1.82789626e+00,  3.34120475e+00],\n",
              "       [ 1.00000000e+00, -1.41878241e+00,  2.01294352e+00],\n",
              "       [ 1.00000000e+00, -4.14892276e-01,  1.72135601e-01],\n",
              "       [ 1.00000000e+00,  4.55679880e-01,  2.07644153e-01],\n",
              "       [ 1.00000000e+00,  1.57568675e+00,  2.48278872e+00],\n",
              "       [ 1.00000000e+00, -2.37132479e+00,  5.62318126e+00],\n",
              "       [ 1.00000000e+00,  1.06726788e+00,  1.13906073e+00],\n",
              "       [ 1.00000000e+00,  2.90505794e+00,  8.43936166e+00],\n",
              "       [ 1.00000000e+00,  1.33925797e+00,  1.79361192e+00],\n",
              "       [ 1.00000000e+00, -8.55740844e-01,  7.32292392e-01],\n",
              "       [ 1.00000000e+00,  1.49959788e+00,  2.24879381e+00],\n",
              "       [ 1.00000000e+00, -1.13768820e+00,  1.29433443e+00],\n",
              "       [ 1.00000000e+00,  1.01255741e+00,  1.02527251e+00],\n",
              "       [ 1.00000000e+00,  1.29992431e+00,  1.68980320e+00],\n",
              "       [ 1.00000000e+00, -1.69329657e+00,  2.86725326e+00],\n",
              "       [ 1.00000000e+00, -3.98721623e-01,  1.58978932e-01],\n",
              "       [ 1.00000000e+00, -1.23871627e+00,  1.53441799e+00],\n",
              "       [ 1.00000000e+00,  2.47189000e+00,  6.11024017e+00],\n",
              "       [ 1.00000000e+00,  1.24027433e-01,  1.53828040e-02],\n",
              "       [ 1.00000000e+00,  2.45020390e+00,  6.00349915e+00],\n",
              "       [ 1.00000000e+00, -1.55018136e+00,  2.40306225e+00],\n",
              "       [ 1.00000000e+00, -6.24043207e-01,  3.89429925e-01],\n",
              "       [ 1.00000000e+00, -1.11972949e+00,  1.25379414e+00],\n",
              "       [ 1.00000000e+00,  1.92591182e+00,  3.70913633e+00],\n",
              "       [ 1.00000000e+00, -1.15269400e+00,  1.32870345e+00],\n",
              "       [ 1.00000000e+00, -2.77546301e+00,  7.70319491e+00],\n",
              "       [ 1.00000000e+00, -2.93076564e+00,  8.58938723e+00],\n",
              "       [ 1.00000000e+00,  1.84849563e+00,  3.41693610e+00],\n",
              "       [ 1.00000000e+00,  2.60674334e+00,  6.79511086e+00],\n",
              "       [ 1.00000000e+00, -2.74388374e+00,  7.52889797e+00],\n",
              "       [ 1.00000000e+00, -1.98593252e+00,  3.94392799e+00]])"
            ]
          },
          "metadata": {},
          "execution_count": 20
        }
      ]
    },
    {
      "cell_type": "code",
      "source": [
        "x_test_p"
      ],
      "metadata": {
        "colab": {
          "base_uri": "https://localhost:8080/"
        },
        "id": "V3kpDBaYi7U8",
        "outputId": "bc58bf2d-840b-4da3-fe91-50c256a15a9b"
      },
      "execution_count": 21,
      "outputs": [
        {
          "output_type": "execute_result",
          "data": {
            "text/plain": [
              "array([[ 1.        , -2.20596494,  4.8662813 ],\n",
              "       [ 1.        , -1.98430608,  3.93747062],\n",
              "       [ 1.        , -1.73234192,  3.00100853],\n",
              "       [ 1.        , -1.08935964,  1.18670443],\n",
              "       [ 1.        ,  0.96662834,  0.93437034],\n",
              "       [ 1.        ,  2.04923276,  4.19935489],\n",
              "       [ 1.        , -2.16137587,  4.67154567],\n",
              "       [ 1.        ,  1.80039873,  3.2414356 ],\n",
              "       [ 1.        ,  2.94472722,  8.67141838],\n",
              "       [ 1.        ,  1.95038121,  3.80398686],\n",
              "       [ 1.        , -2.03484737,  4.14060381],\n",
              "       [ 1.        , -2.14546811,  4.6030334 ],\n",
              "       [ 1.        ,  0.17431764,  0.03038664],\n",
              "       [ 1.        , -0.63144936,  0.39872829],\n",
              "       [ 1.        ,  2.41468617,  5.83070932],\n",
              "       [ 1.        ,  0.51518524,  0.26541583],\n",
              "       [ 1.        , -0.86382955,  0.74620149],\n",
              "       [ 1.        ,  1.36105513,  1.85247107],\n",
              "       [ 1.        , -2.47327429,  6.11708572],\n",
              "       [ 1.        , -2.38371027,  5.68207464]])"
            ]
          },
          "metadata": {},
          "execution_count": 21
        }
      ]
    },
    {
      "cell_type": "code",
      "source": [
        "Reg_model2=LinearRegression()\n",
        "Reg_model2.fit(x_train_p,y_train)\n",
        "y_predict2=Reg_model2.predict(x_test_p)\n",
        "score2=r2_score(y_test,y_predict2)"
      ],
      "metadata": {
        "id": "7eHpGaJhkPuY"
      },
      "execution_count": 25,
      "outputs": []
    },
    {
      "cell_type": "code",
      "source": [
        "print(score2)"
      ],
      "metadata": {
        "colab": {
          "base_uri": "https://localhost:8080/"
        },
        "id": "t2q5LO0SkiuH",
        "outputId": "17f36d3c-3665-40a3-9786-23591ba55198"
      },
      "execution_count": 26,
      "outputs": [
        {
          "output_type": "stream",
          "name": "stdout",
          "text": [
            "0.9070024206757014\n"
          ]
        }
      ]
    },
    {
      "cell_type": "code",
      "source": [
        "print(Reg_model2.coef_)"
      ],
      "metadata": {
        "colab": {
          "base_uri": "https://localhost:8080/"
        },
        "id": "5sMdANorkm6O",
        "outputId": "6d5d42b7-07b6-4a22-f15a-43207a962db6"
      },
      "execution_count": 28,
      "outputs": [
        {
          "output_type": "stream",
          "name": "stdout",
          "text": [
            "[[0.         1.53712778 0.42664545]]\n"
          ]
        }
      ]
    },
    {
      "cell_type": "code",
      "source": [
        "print(Reg_model2.intercept_)"
      ],
      "metadata": {
        "colab": {
          "base_uri": "https://localhost:8080/"
        },
        "id": "msXPAPlulMXu",
        "outputId": "2a205dab-3e4f-41be-a1a3-25e51036b438"
      },
      "execution_count": 29,
      "outputs": [
        {
          "output_type": "stream",
          "name": "stdout",
          "text": [
            "[2.222374]\n"
          ]
        }
      ]
    },
    {
      "cell_type": "code",
      "source": [
        "plt.scatter(x_train,Reg_model2.predict(x_train_p))\n",
        "plt.scatter(x_train,y_train)"
      ],
      "metadata": {
        "colab": {
          "base_uri": "https://localhost:8080/",
          "height": 447
        },
        "id": "MjKHOXmplSjJ",
        "outputId": "605f000f-704b-4bfd-99c2-9d0cbb0c984d"
      },
      "execution_count": 30,
      "outputs": [
        {
          "output_type": "execute_result",
          "data": {
            "text/plain": [
              "<matplotlib.collections.PathCollection at 0x7db5b1e79480>"
            ]
          },
          "metadata": {},
          "execution_count": 30
        },
        {
          "output_type": "display_data",
          "data": {
            "text/plain": [
              "<Figure size 640x480 with 1 Axes>"
            ],
            "image/png": "[encoded data removed]"
          },
          "metadata": {}
        }
      ]
    },
    {
      "cell_type": "code",
      "source": [],
      "metadata": {
        "id": "v57FmlMalZgJ"
      },
      "execution_count": null,
      "outputs": []
    }
  ]
}
